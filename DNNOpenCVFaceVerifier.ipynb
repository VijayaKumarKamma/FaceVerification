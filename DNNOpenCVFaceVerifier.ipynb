{
 "cells": [
  {
   "cell_type": "code",
   "execution_count": 1,
   "metadata": {},
   "outputs": [
    {
     "name": "stderr",
     "output_type": "stream",
     "text": [
      "Using TensorFlow backend.\n"
     ]
    }
   ],
   "source": [
    "import cv2\n",
    "import math\n",
    "import matplotlib.pyplot as plt\n",
    "import pandas as pd\n",
    "%matplotlib inline\n",
    "from keras.preprocessing import image\n",
    "import numpy as np\n",
    "#from google.colab.patches import cv2_imshow\n",
    "import os\n",
    "import sys\n",
    "from PIL import Image"
   ]
  },
  {
   "cell_type": "code",
   "execution_count": 2,
   "metadata": {},
   "outputs": [],
   "source": [
    "# import the necessary packages\n",
    "from imutils.video import VideoStream\n",
    "from imutils import face_utils\n",
    "import imutils\n",
    "import time\n",
    "import dlib\n",
    "import cv2"
   ]
  },
  {
   "cell_type": "markdown",
   "metadata": {},
   "source": [
    "DNN = \"CAFFE\"\n",
    "if DNN == \"CAsFFE\":\n",
    "    print(\"Vijay\")\n",
    "    modelFile = \"C:\\\\Users\\\\kamma\\\\Desktop\\\\FaceVerification-master\\\\FaceVerification-master\\\\model_dataweights.caffemodel\"\n",
    "    configFile = \"C:\\\\Users\\\\kamma\\\\Desktop\\\\FaceVerification-master\\\\FaceVerification-master\\\\deploy.prototxt\"\n",
    "    net = cv2.dnn.readNetFromCaffe(configFile, modelFile)\n",
    "else:\n",
    "    print(\"Vija2y\")\n",
    "    #modelFile = \"C:\\\\Users\\\\kamma\\\\Desktop\\\\FaceVerification-master\\\\FaceVerification-master\\\\model_dataweights.caffemodel\"\n",
    "    #configFile = \"C:\\\\Users\\\\kamma\\\\Desktop\\\\FaceVerification-master\\\\FaceVerification-master\\\\deploy.prototxt\"\n",
    "    modelFile = \"C:\\\\Users\\\\kamma\\\\Desktop\\\\FaceVerification-master\\\\FaceVerification-master\\\\model_data\\\\opencv_face_detector_uint8.pb\"\n",
    "    configFile = \"C:\\\\Users\\\\kamma\\\\Desktop\\\\FaceVerification-master\\\\FaceVerification-master\\\\model_data\\\\opencv_face_detector.pbtxt\"\n",
    "    \n",
    "    #modelFile = \"opencv_face_detector_uint8.pb\"\n",
    "    #configFile = \"opencv_face_detector.pbtxt\"\n",
    "    #configFile = \"deploy.prototxt\"\n",
    "    # modelFile = \"model_dataweights.caffemodel\"\n",
    "    #net = cv2.dnn.readNetFromTensorflow(modelFile, configFile)\n",
    "    #cv2.dnn.readNetFromTensorFlow\n",
    "    net = cv2.dnn.readNetFromTensorflow(modelFile,configFile)"
   ]
  },
  {
   "cell_type": "code",
   "execution_count": 3,
   "metadata": {},
   "outputs": [],
   "source": [
    "import os\n",
    "import cv2\n",
    "import numpy as np"
   ]
  },
  {
   "cell_type": "markdown",
   "metadata": {},
   "source": [
    "# Read the model\n",
    "#\"model=\"deploy.prototxt.txt\"\n",
    "caffemodel_path = \"C:\\\\Users\\\\kamma\\\\Desktop\\\\FaceVerification-master\\\\FaceVerification-master\\\\model_data\\\\model_dataweights.caffemodel\"\n",
    "prototxt_path = \"C:\\\\Users\\\\kamma\\\\Desktop\\\\FaceVerification-master\\\\FaceVerification-master\\\\model_data\\\\deploy.prototxt\"\n",
    "model = cv2.dnn.readNetFromCaffe(prototxt_path, caffemodel_path)"
   ]
  },
  {
   "cell_type": "code",
   "execution_count": 5,
   "metadata": {},
   "outputs": [
    {
     "name": "stdout",
     "output_type": "stream",
     "text": [
      "Model_loaded\n"
     ]
    }
   ],
   "source": [
    "prototxt_path = os.path.join('model_data/deploy.prototxt')\n",
    "caffemodel_path = os.path.join('model_data/weights.caffemodel')\n",
    "\n",
    "# Read the model\n",
    "model = cv2.dnn.readNetFromCaffe(prototxt_path, caffemodel_path)\n",
    "print(\"Model_loaded\")"
   ]
  },
  {
   "cell_type": "code",
   "execution_count": 5,
   "metadata": {},
   "outputs": [
    {
     "data": {
      "text/plain": [
       "'3.4.0'"
      ]
     },
     "execution_count": 5,
     "metadata": {},
     "output_type": "execute_result"
    }
   ],
   "source": [
    "cv2.__version__"
   ]
  },
  {
   "cell_type": "code",
   "execution_count": 9,
   "metadata": {},
   "outputs": [
    {
     "name": "stdout",
     "output_type": "stream",
     "text": [
      "30.00003000003\n",
      "vijay\n"
     ]
    }
   ],
   "source": [
    "cap = cv2.VideoCapture(0)\n",
    "cap.set(5, 30)\n",
    "frameRate = cap.get(5)\n",
    "print(frameRate)\n",
    "count=0\n",
    "while True:\n",
    "    count+=1\n",
    "    frameId=count\n",
    "    ret, frame = cap.read()\n",
    "    frame = imutils.resize(frame, width=600)\n",
    "    (h, w) = frame.shape[:2]\n",
    "    gray = cv2.cvtColor(frame, cv2.COLOR_BGR2GRAY)\n",
    "    \n",
    "    # construct a blob from the image\n",
    "    #imageBlob = cv2.dnn.blobFromImage(\n",
    "        #cv2.resize(frame, (300, 300)), 1.0, (300, 300),(104.0, 177.0, 123.0), swapRB=False, crop=False)\n",
    "    \n",
    "    imageBlob = cv2.dnn.blobFromImage(frame, 1.0, (300, 300), [104, 117, 123], False, False)\n",
    "\n",
    "    # apply OpenCV's deep learning-based face detector to localize\n",
    "    # faces in the input image\n",
    "    model.setInput(imageBlob)\n",
    "    detections = model.forward()\n",
    "    # loop over the detections\n",
    "    for i in range(0, detections.shape[2]):\n",
    "    # extract the confidence (i.e., probability) associated with\n",
    "    # the prediction\n",
    "        confidence = detections[0, 0, i, 2]\n",
    "        frameHeight= frame.shape[2]\n",
    "        # filter out weak detections\n",
    "        if confidence > 0.5:\n",
    "        # compute the (x, y)-coordinates of the bounding box for\n",
    "        # the face\n",
    "            box = detections[0, 0, i, 3:7] * np.array([w, h, w, h])\n",
    "            (startX, startY, endX, endY) = box.astype(\"int\")\n",
    "\n",
    "            # extract the face ROI\n",
    "            face = frame[startY:endY, startX:endX]\n",
    "            (fH, fW) = face.shape[:2]\n",
    "            cv2.rectangle(frame, (startX, startY), (endX, endY), (0, 255, 0), int(round(frameHeight/150)), 8)\n",
    "\n",
    "            # ensure the face width and height are sufficiently large\n",
    "            if fW < 20 or fH < 20:\n",
    "                continue\n",
    "        cv2.imshow(\"Frame\", frame)\n",
    "\n",
    "                # show the frame\n",
    "   \n",
    "    k= cv2.waitKey(5) & 0xff\n",
    "    if k==27:\n",
    "        break\n",
    "print(\"vijay\")\n",
    "cv2.destroyAllWindows()\n",
    "cap.release()"
   ]
  },
  {
   "cell_type": "code",
   "execution_count": null,
   "metadata": {},
   "outputs": [],
   "source": []
  }
 ],
 "metadata": {
  "kernelspec": {
   "display_name": "Python 3",
   "language": "python",
   "name": "python3"
  },
  "language_info": {
   "codemirror_mode": {
    "name": "ipython",
    "version": 3
   },
   "file_extension": ".py",
   "mimetype": "text/x-python",
   "name": "python",
   "nbconvert_exporter": "python",
   "pygments_lexer": "ipython3",
   "version": "3.6.8"
  }
 },
 "nbformat": 4,
 "nbformat_minor": 2
}
