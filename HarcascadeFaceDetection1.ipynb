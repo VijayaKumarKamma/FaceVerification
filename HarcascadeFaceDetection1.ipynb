{
 "cells": [
  {
   "cell_type": "code",
   "execution_count": 2,
   "metadata": {},
   "outputs": [],
   "source": [
    "import cv2\n",
    "import math\n",
    "import matplotlib.pyplot as plt\n",
    "import pandas as pd\n",
    "%matplotlib inline\n",
    "from keras.preprocessing import image\n",
    "import numpy as np\n",
    "#from google.colab.patches import cv2_imshow\n",
    "import os\n",
    "import sys\n",
    "from PIL import Image"
   ]
  },
  {
   "cell_type": "code",
   "execution_count": 10,
   "metadata": {},
   "outputs": [
    {
     "name": "stdout",
     "output_type": "stream",
     "text": [
      "30.00003000003\n",
      "<class 'tuple'>\n"
     ]
    }
   ],
   "source": [
    "import numpy as np\n",
    "from keras.preprocessing import image\n",
    "#font = cv2.FONT_HERSHEY_SIMPLEX\n",
    "#face_cascade = cv2.CascadeClassifier(\"C:\\\\Users\\\\kamma\\\\Anaconda3\\\\envs\\\\vdpnLeP35\\\\Library\\\\etc\\\\haarcascades\\\\haarcascade_frontalface_default.xml\")\n",
    "#face_cascade = cv2.CascadeClassifier(\"C:\\\\Users\\\\kamma\\\\Anaconda3\\\\envs\\\\vdpnLeP35\\\\Library\\\\etc\\\\haarcascades\\\\haarcascade_frontalface_alt_tree.xml\")\n",
    "face_cascade = cv2.CascadeClassifier(\"C:\\\\Users\\Allworx User 2.ALLWORXW2\\\\Anaconda3\\\\envs\\\\tf15\\\\Library\\\\etc\\\\haarcascades\\\\haarcascade_frontalface_default.xml\")\n",
    "#face_cascade = cv2.CascadeClassifier(\"C:\\\\Users\\\\kamma\\\\Anaconda3\\\\envs\\\\vdpnLeP35\\\\Library\\\\etc\\\\haarcascades\\\\haarcascade_frontalface_alt2.xml\")\n",
    "\n",
    "cap = cv2.VideoCapture(0)\n",
    "cap.set(5, 30)\n",
    "frameRate = cap.get(5)\n",
    "print(frameRate)\n",
    "count=0\n",
    "while True:\n",
    "    #current frame number--this is for frame rate\n",
    "    count+=1\n",
    "    frameId=count\n",
    "    ret, img = cap.read()\n",
    "    cv2.imshow('imgc',img)\n",
    "    #show the mark on face\n",
    "    gray = cv2.cvtColor(img, cv2.COLOR_BGR2GRAY)\n",
    "    faces = face_cascade.detectMultiScale(gray, 1.3, 5)\n",
    "    print(type(faces))\n",
    "    if (frameId % (math.floor((frameRate/2))) == 0):\n",
    "        for (x,y,w,h) in faces:\n",
    "            cv2.rectangle(img, (x,y), (x+w, y+h), (0,255,0), 5)  #2 is width of the line \n",
    "            cv2.imshow('img',img)\n",
    "    k= cv2.waitKey(0) & 0xff\n",
    "    if k==27:\n",
    "        break\n",
    "        \n",
    "cv2.destroyAllWindows()\n",
    "cap.release()"
   ]
  },
  {
   "cell_type": "code",
   "execution_count": null,
   "metadata": {},
   "outputs": [],
   "source": []
  },
  {
   "cell_type": "code",
   "execution_count": null,
   "metadata": {},
   "outputs": [],
   "source": []
  }
 ],
 "metadata": {
  "kernelspec": {
   "display_name": "Python 3",
   "language": "python",
   "name": "python3"
  },
  "language_info": {
   "codemirror_mode": {
    "name": "ipython",
    "version": 3
   },
   "file_extension": ".py",
   "mimetype": "text/x-python",
   "name": "python",
   "nbconvert_exporter": "python",
   "pygments_lexer": "ipython3",
   "version": "3.6.7"
  }
 },
 "nbformat": 4,
 "nbformat_minor": 2
}
